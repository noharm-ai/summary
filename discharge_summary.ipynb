{
  "nbformat": 4,
  "nbformat_minor": 0,
  "metadata": {
    "colab": {
      "provenance": [],
      "gpuType": "T4"
    },
    "kernelspec": {
      "name": "python3",
      "display_name": "Python 3"
    },
    "language_info": {
      "name": "python"
    },
    "accelerator": "GPU"
  },
  "cells": [
    {
      "cell_type": "markdown",
      "source": [
        "## Install Libs"
      ],
      "metadata": {
        "id": "EyZPxg43Gg8c"
      }
    },
    {
      "cell_type": "code",
      "execution_count": null,
      "metadata": {
        "id": "dCNPUyNdECWh"
      },
      "outputs": [],
      "source": [
        "!pip install flair nltk transformers==4.30.2 maritalk"
      ]
    },
    {
      "cell_type": "code",
      "source": [
        "import flair, torch, transformers, maritalk\n",
        "flair.__version__, torch.__version__, transformers.__version__"
      ],
      "metadata": {
        "colab": {
          "base_uri": "https://localhost:8080/"
        },
        "id": "_wXzhytAEJTS",
        "outputId": "a192571c-6943-4a83-e8ce-f69f9e523a32"
      },
      "execution_count": 2,
      "outputs": [
        {
          "output_type": "execute_result",
          "data": {
            "text/plain": [
              "('0.12.2', '2.0.0+cu117', '4.30.2')"
            ]
          },
          "metadata": {},
          "execution_count": 2
        }
      ]
    },
    {
      "cell_type": "markdown",
      "source": [
        "## Load Model & Config Maritaca.ai"
      ],
      "metadata": {
        "id": "xQT1CsRwGmQa"
      }
    },
    {
      "cell_type": "code",
      "source": [
        "tagger = flair.models.SequenceTagger.load('noharm-ai/summary')"
      ],
      "metadata": {
        "colab": {
          "base_uri": "https://localhost:8080/"
        },
        "id": "B7re3mhLEYwG",
        "outputId": "b7ef3e12-7c1d-4f08-ec7c-99d56d7cb1ab"
      },
      "execution_count": 3,
      "outputs": [
        {
          "output_type": "stream",
          "name": "stdout",
          "text": [
            "2023-09-28 09:23:53,434 SequenceTagger predicts: Dictionary with 37 tags: O, S-Diagnóstico, B-Diagnóstico, E-Diagnóstico, I-Diagnóstico, S-CondiçãoAlta, B-CondiçãoAlta, E-CondiçãoAlta, I-CondiçãoAlta, S-PlanoAlta, B-PlanoAlta, E-PlanoAlta, I-PlanoAlta, S-Exames, B-Exames, E-Exames, I-Exames, S-Procedimentos, B-Procedimentos, E-Procedimentos, I-Procedimentos, S-Motivo, B-Motivo, E-Motivo, I-Motivo, S-MedPrévio, B-MedPrévio, E-MedPrévio, I-MedPrévio, S-Resumo, B-Resumo, E-Resumo, I-Resumo, S-MedInterrompido, B-MedInterrompido, E-MedInterrompido, I-MedInterrompido\n"
          ]
        }
      ]
    },
    {
      "cell_type": "code",
      "source": [
        "model = maritalk.MariTalk(key=\"escreve seu token aqui\")"
      ],
      "metadata": {
        "id": "pnxuU4wBEpgq"
      },
      "execution_count": 4,
      "outputs": []
    },
    {
      "cell_type": "markdown",
      "source": [
        "## Run Example"
      ],
      "metadata": {
        "id": "7IN5BWE1Gt8i"
      }
    },
    {
      "cell_type": "code",
      "source": [
        "sentence = flair.data.Sentence(\"\"\"\n",
        "FISIOTERAPIA TRAUMATO - MANHÃ  Henrique Dias, 38 anos. Exercícios metabólicos de extremidades inferiores.\n",
        "Realizo mobilização patelar e leve mobilização de flexão de joelho conforme liberado pelo Dr Marcelo Arocha.\n",
        "Oriento cuidados e posicionamentos.\n",
        "\"\"\")\n",
        "\n",
        "tagger.predict(sentence)\n",
        "\n",
        "condicaoAlta = []\n",
        "\n",
        "for entity in sentence.get_spans('ner'):\n",
        "    print(entity)\n",
        "    if entity.labels[0].value == 'CondiçãoAlta':\n",
        "      condicaoAlta.append(entity.text)"
      ],
      "metadata": {
        "colab": {
          "base_uri": "https://localhost:8080/"
        },
        "id": "bdsGHv7BGydP",
        "outputId": "36b20f4c-36e2-408f-be45-a91467750983"
      },
      "execution_count": 59,
      "outputs": [
        {
          "output_type": "stream",
          "name": "stdout",
          "text": [
            "Span[17:25]: \"mobilização patelar e leve mobilização de flexão de\" → CondiçãoAlta (0.8737)\n",
            "Span[33:38]: \"Oriento cuidados e posicionamentos.\" → PlanoAlta (0.9987)\n"
          ]
        }
      ]
    },
    {
      "cell_type": "code",
      "source": [
        "messages = [\n",
        "    {\"role\": \"user\", \"content\": \"Descreva em uma frase a condição de alta do paciente: \" + ','.join(condicaoAlta)}\n",
        "]\n",
        "\n",
        "answer = model.generate(\n",
        "    messages,\n",
        "    do_sample=True,\n",
        "    max_tokens=200,\n",
        "    temperature=0.7,\n",
        "    top_p=0.95)\n",
        "\n",
        "print(f\"Resposta: {answer}\")"
      ],
      "metadata": {
        "colab": {
          "base_uri": "https://localhost:8080/"
        },
        "id": "fR32DXhmJVwr",
        "outputId": "11923e3e-e847-426a-f800-23d0c298ba4c"
      },
      "execution_count": 60,
      "outputs": [
        {
          "output_type": "stream",
          "name": "stdout",
          "text": [
            "Resposta: Paciente apresenta alta mobilização patelar e leve mobilização de flexão de joelho.\n"
          ]
        }
      ]
    },
    {
      "cell_type": "code",
      "source": [],
      "metadata": {
        "id": "_7Bu-bSbLFpd"
      },
      "execution_count": null,
      "outputs": []
    }
  ]
}